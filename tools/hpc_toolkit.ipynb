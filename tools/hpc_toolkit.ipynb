{
 "cells": [
  {
   "cell_type": "markdown",
   "metadata": {},
   "source": [
    "<img src=\"assets/logo.jpg\" alt=\"HPC Builder Logo\" width=\"64\"/>\n",
    "\n",
    "# HPC Toolkit\n",
    "\n",
    "ARC - Aschaffenburger Research Cluster<br>\n",
    "Version 2024.5.1<br>\n",
    "_by Kat 2024_"
   ]
  },
  {
   "cell_type": "markdown",
   "metadata": {},
   "source": [
    "#### Setup HPC Toolkit\n",
    "\n",
    "First, you'll need to setup some mandatory information before start using the **HPC Toolkit**. Create a file **__hpc_setup.yaml** in your workspace root folder and fill in all information:\n",
    "\n",
    "**Also:** Just put your yaml file in gitignore to avoid pushing that info to the repository."
   ]
  },
  {
   "cell_type": "code",
   "execution_count": null,
   "metadata": {},
   "outputs": [],
   "source": [
    "from io import StringIO\n",
    "import pandas as pd\n",
    "import subprocess\n",
    "import yaml\n",
    "import hpctk\n",
    "\n",
    "# load user HPC settings yaml\n",
    "with open('../__hpc_creds.yaml', 'r') as file:\n",
    "    config = yaml.safe_load(file)\n",
    "\n",
    "# Access the variables\n",
    "lab = config[\"lab\"]\n",
    "user = config[\"user\"]\n",
    "workspace_dir = config[\"workspace_dir\"]\n",
    "container_name = config[\"container_name\"]\n",
    "container_tag = config[\"container_tag\"]\n",
    "docker_file = config[\"docker_file\"]\n",
    "registry_host = config[\"registry_host\"]\n",
    "hpc_mn = config[\"hpc_mn\"]\n",
    "hpc_mn_project_base = config[\"hpc_mn_project_base\"]\n",
    "ssh_creds = config[\"ssh_creds\"]\n",
    "\n",
    "hpctk.print_hpc_setup_yaml(lab, user, container_name, container_tag, docker_file, registry_host, hpc_mn, ssh_creds, workspace_dir, hpc_mn_project_base)"
   ]
  },
  {
   "cell_type": "markdown",
   "metadata": {},
   "source": [
    "#### Get cluster detail status"
   ]
  },
  {
   "cell_type": "code",
   "execution_count": null,
   "metadata": {},
   "outputs": [],
   "source": [
    "# sinfo -lNe\n",
    "try:\n",
    "    rc = hpctk.run_remote([\"sinfo -lNe\"], hpc_mn, ssh_creds, stdout=False)\n",
    "    hpctk.show_tab_styled(rc.stdout, 1, hpctk.highlight_state)\n",
    "\n",
    "except subprocess.CalledProcessError as e:\n",
    "    print(f\"\\n{hpctk.STATE_FAIL} Failed: {e.returncode}\\n\")\n",
    "    print(f\":: Error message: {e.stderr}\")"
   ]
  },
  {
   "cell_type": "markdown",
   "metadata": {},
   "source": [
    "#### Get squeue"
   ]
  },
  {
   "cell_type": "code",
   "execution_count": null,
   "metadata": {},
   "outputs": [],
   "source": [
    "# squeue\n",
    "try:\n",
    "    rc = hpctk.run_remote([\"squeue\", \"-u\", user, \"-t\", \"pending,running\", \"-r\"], hpc_mn, ssh_creds, stdout=False)\n",
    "    hpctk.show_tab_styled_bar(rc.stdout, 0, hpctk.highlight_job_state, ['ST'])\n",
    "\n",
    "except subprocess.CalledProcessError as e:\n",
    "    print(f\"\\n{hpctk.STATE_FAIL} Failed: {e.returncode}\\n\")\n",
    "    print(f\":: Error message: {e.stderr}\")"
   ]
  },
  {
   "cell_type": "markdown",
   "metadata": {},
   "source": [
    "#### Run job on HPC"
   ]
  }
 ],
 "metadata": {
  "kernelspec": {
   "display_name": "Python 3",
   "language": "python",
   "name": "python3"
  },
  "language_info": {
   "codemirror_mode": {
    "name": "ipython",
    "version": 3
   },
   "file_extension": ".py",
   "mimetype": "text/x-python",
   "name": "python",
   "nbconvert_exporter": "python",
   "pygments_lexer": "ipython3",
   "version": "3.10.12"
  }
 },
 "nbformat": 4,
 "nbformat_minor": 2
}
