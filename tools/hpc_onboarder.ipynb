{
 "cells": [
  {
   "cell_type": "markdown",
   "metadata": {},
   "source": [
    "<img src=\"assets/hpc_onboarder.jpg\" alt=\"HPC Builder Logo\" width=\"128\"/>\n",
    "\n",
    "# HPC Onboarder\n",
    "\n",
    "ARC - Aschaffenburger Research Cluster<br>\n",
    "Version 2024.5.1<br>\n",
    "_by Kat 2024_"
   ]
  },
  {
   "cell_type": "markdown",
   "metadata": {},
   "source": [
    "#### Welcome to HPC Onboarder"
   ]
  },
  {
   "cell_type": "code",
   "execution_count": null,
   "metadata": {},
   "outputs": [],
   "source": [
    "from io import StringIO\n",
    "import pandas as pd\n",
    "import subprocess\n",
    "import yaml\n",
    "import hpctk\n",
    "import os\n",
    "\n",
    "HPC_CREDS_FILE=\"../__hpc_creds.yaml\"\n",
    "\n",
    "# check for HPC yaml\n",
    "print(f\"{hpctk.STATE_DONE} HPC yaml\" if os.path.exists(HPC_CREDS_FILE) else f\"{hpctk.STATE_WARN} Missing HPC yaml\")"
   ]
  },
  {
   "cell_type": "markdown",
   "metadata": {},
   "source": [
    "#### HPC Onboarder: Create your personal HPC yaml"
   ]
  },
  {
   "cell_type": "code",
   "execution_count": null,
   "metadata": {},
   "outputs": [],
   "source": [
    "configurator = hpctk.YAML_hpc_creds_configurator(HPC_CREDS_FILE)\n",
    "file_name, yaml_exists = configurator.check_file_existence()\n",
    "\n",
    "if (yaml_exists):\n",
    "    data = configurator.get_yaml_input(configurator.read_yaml())\n",
    "else:\n",
    "    data = configurator.get_yaml_input()\n",
    "\n",
    "configurator.save_to_yaml(data)"
   ]
  },
  {
   "cell_type": "markdown",
   "metadata": {},
   "source": [
    "#### Load HPC yaml"
   ]
  },
  {
   "cell_type": "code",
   "execution_count": null,
   "metadata": {},
   "outputs": [],
   "source": [
    "# load user HPC settings yaml\n",
    "with open('../__hpc_creds.yaml', 'r') as file:\n",
    "    config = yaml.safe_load(file)\n",
    "\n",
    "# Access the variables\n",
    "lab = config[\"lab\"]\n",
    "user = config[\"user\"]\n",
    "workspace_dir = config[\"workspace_dir\"]\n",
    "container_name = config[\"container_name\"]\n",
    "container_tag = config[\"container_tag\"]\n",
    "docker_file = config[\"docker_file\"]\n",
    "registry_host = config[\"registry_host\"]\n",
    "hpc_mn = config[\"hpc_mn\"]\n",
    "hpc_mn_project_base = config[\"hpc_mn_project_base\"]\n",
    "ssh_creds = config[\"ssh_creds\"]\n",
    "\n",
    "hpctk.print_hpc_setup_yaml(lab, user, container_name, container_tag, docker_file, registry_host, hpc_mn, ssh_creds, workspace_dir, hpc_mn_project_base)"
   ]
  },
  {
   "cell_type": "markdown",
   "metadata": {},
   "source": [
    "#### HPC Onboarder: Create your SSH key\n",
    "\n",
    "After key generation copy+paste your public key and send that to the HPC user registration team."
   ]
  },
  {
   "cell_type": "code",
   "execution_count": null,
   "metadata": {},
   "outputs": [],
   "source": [
    "configurator = hpctk.SSHConfigurator()\n",
    "\n",
    "try:\n",
    "    hpctk.gen_ssh_key(ssh_creds)\n",
    "\n",
    "except subprocess.CalledProcessError as e:\n",
    "    print(f\"\\n{hpctk.STATE_FAIL} Failed: {e.returncode}\\n\")\n",
    "    print(f\":: Error message: {e.stderr}\")"
   ]
  }
 ],
 "metadata": {
  "kernelspec": {
   "display_name": "Python 3",
   "language": "python",
   "name": "python3"
  },
  "language_info": {
   "codemirror_mode": {
    "name": "ipython",
    "version": 3
   },
   "file_extension": ".py",
   "mimetype": "text/x-python",
   "name": "python",
   "nbconvert_exporter": "python",
   "pygments_lexer": "ipython3",
   "version": "3.10.12"
  }
 },
 "nbformat": 4,
 "nbformat_minor": 2
}
