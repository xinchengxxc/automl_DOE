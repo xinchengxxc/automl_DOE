{
 "cells": [
  {
   "cell_type": "markdown",
   "metadata": {},
   "source": [
    "<img src=\"assets/logo.jpg\" alt=\"HPC Builder Logo\" width=\"64\"/>\n",
    "\n",
    "# HPC Container Builder\n",
    "\n",
    "ARC - Aschaffenburger Research Cluster<br>\n",
    "Version 2024.5.1<br>\n",
    "_by Kat 2024_"
   ]
  },
  {
   "cell_type": "markdown",
   "metadata": {},
   "source": [
    "#### Setup docker build environment\n",
    "\n",
    "First, you'll need to setup some mandatory information before start using the HPC Builder. Create a file **__hpc_setup.yaml** in your workspace root folder and fill in all information:\n",
    "\n",
    "**Also:** Just put your yaml file in gitignore to avoid pushing that info to the repository."
   ]
  },
  {
   "cell_type": "code",
   "execution_count": null,
   "metadata": {},
   "outputs": [],
   "source": [
    "from io import StringIO\n",
    "import pandas as pd\n",
    "import subprocess\n",
    "import yaml\n",
    "import hpctk\n",
    "\n",
    "# load user HPC settings yaml\n",
    "with open('../__hpc_creds.yaml', 'r') as file:\n",
    "    config = yaml.safe_load(file)\n",
    "\n",
    "# Access the variables\n",
    "lab = config[\"lab\"]\n",
    "user = config[\"user\"]\n",
    "workspace_dir = config[\"workspace_dir\"]\n",
    "container_name = config[\"container_name\"]\n",
    "container_tag = config[\"container_tag\"]\n",
    "docker_file = config[\"docker_file\"]\n",
    "registry_host = config[\"registry_host\"]\n",
    "hpc_mn = config[\"hpc_mn\"]\n",
    "hpc_mn_project_base = config[\"hpc_mn_project_base\"]\n",
    "ssh_creds = config[\"ssh_creds\"]\n",
    "\n",
    "hpctk.print_hpc_setup_yaml(lab, user, container_name, container_tag, docker_file, registry_host, hpc_mn, ssh_creds, workspace_dir, hpc_mn_project_base)"
   ]
  },
  {
   "cell_type": "markdown",
   "metadata": {},
   "source": [
    "#### Build and tag docker image for HPC\n",
    "\n",
    "You'll need to build your docker image first. A build can take up to **10 minutes** or more so just be patient. A build might error out. **Read the error messages and don't ignore any warnings.** If your docker image was built fine, a tag for a specific docker registry is mandatory."
   ]
  },
  {
   "cell_type": "code",
   "execution_count": null,
   "metadata": {},
   "outputs": [],
   "source": [
    "try:\n",
    "    print(f\"{hpctk.STATE_WORK} Build docker image local/{lab}_{user}_{container_name}:{container_tag}...\")\n",
    "    hpctk.run([\"docker\", \"build\", \"-f\", f\"{docker_file}\", \"-t\", f\"local/{lab}_{user}_{container_name}:{container_tag}\", \".\"])\n",
    "    print(f\"{hpctk.STATE_WORK} Tag docker image {registry_host}/{lab}_{user}_{container_name}:{container_tag}...\")\n",
    "    hpctk.run([\"docker\", \"image\", \"tag\", f\"local/{lab}_{user}_{container_name}:{container_tag}\", f\"{registry_host}/{lab}_{user}_{container_name}:{container_tag}\"])\n",
    "    print(f\"{hpctk.STATE_DONE} DONE!\")\n",
    "\n",
    "    result = hpctk.run([\"docker\", \"image\", \"ls\", \"--format\", \"REPOSITORY\\tTAG\\tIMAGE_ID\\tSIZE\\n{{.Repository}}\\t{{.Tag}}\\t{{.ID}}\\t{{.Size}}\", f\"{registry_host}/{lab}_{user}_{container_name}:{container_tag}\"], stdout=False)\n",
    "    hpctk.show_tab_styled(result.stdout, 0, hpctk.highlight_tags, columns=['TAG'])\n",
    "\n",
    "except subprocess.CalledProcessError as e:\n",
    "    print(f\"\\n{hpctk.STATE_FAIL} Failed: {e.returncode}\\n\")\n",
    "    print(f\":: Error message: {e.stderr}\")"
   ]
  },
  {
   "cell_type": "markdown",
   "metadata": {},
   "source": [
    "#### Build and tag docker image for development\n",
    "\n",
    "Run this to create a local container image for development."
   ]
  },
  {
   "cell_type": "code",
   "execution_count": null,
   "metadata": {},
   "outputs": [],
   "source": [
    "try:\n",
    "    print(f\"{hpctk.STATE_WORK} Build docker image local/{container_name}:{container_tag}...\")\n",
    "    hpctk.run([\"docker\", \"build\", \"-f\", f\"{docker_file}\", \"-t\", f\"local/{container_name}:{container_tag}\", \".\"])\n",
    "    print(f\"{hpctk.STATE_DONE} DONE!\")\n",
    "\n",
    "    result = hpctk.run([\"docker\", \"image\", \"ls\", \"--format\", \"REPOSITORY\\tTAG\\tIMAGE_ID\\tSIZE\\n{{.Repository}}\\t{{.Tag}}\\t{{.ID}}\\t{{.Size}}\", f\"{registry_host}/{lab}_{user}_{container_name}:{container_tag}\"], stdout=False)\n",
    "    hpctk.show_tab_styled(result.stdout, 0, hpctk.highlight_tags, columns=['TAG'])\n",
    "\n",
    "except subprocess.CalledProcessError as e:\n",
    "    print(f\"\\n{hpctk.STATE_FAIL} Failed: {e.returncode}\\n\")\n",
    "    print(f\":: Error message: {e.stderr}\")"
   ]
  },
  {
   "cell_type": "markdown",
   "metadata": {},
   "source": [
    "#### Push docker image to HPC"
   ]
  },
  {
   "cell_type": "code",
   "execution_count": null,
   "metadata": {},
   "outputs": [],
   "source": [
    "try:\n",
    "    print(f\"{hpctk.STATE_WORK} Push docker image {registry_host}/{lab}_{user}_{container_name}:{container_tag}...\")\n",
    "    hpctk.run([\"docker\", \"push\", f\"{registry_host}/{lab}_{user}_{container_name}:{container_tag}\"], stdout=False)\n",
    "    print(f\"\\n{hpctk.STATE_DONE} DONE!\\n\")\n",
    "    \n",
    "    hpctk.run([\"curl\", \"-X\", \"GET\", f\"https://{registry_host}/v2/{lab}_{user}_{container_name}/tags/list\"])\n",
    "\n",
    "except subprocess.CalledProcessError as e:\n",
    "    print(f\"\\n{hpctk.STATE_FAIL} Failed: {e.returncode}\\n\")\n",
    "    print(f\":: Error message: {e.stderr}\")"
   ]
  },
  {
   "cell_type": "markdown",
   "metadata": {},
   "source": [
    "#### Push code to HPC"
   ]
  },
  {
   "cell_type": "code",
   "execution_count": null,
   "metadata": {},
   "outputs": [],
   "source": [
    "try:\n",
    "    ssh_port = ssh_creds[\"port\"]\n",
    "    ssh_key_file = f\"{ssh_creds['ssh_path']}/{ssh_creds['ssh_key_name']}\"\n",
    "    ssh_user = ssh_creds[\"user\"]\n",
    "\n",
    "    print(f\"{hpctk.STATE_WORK} Push code to HPC {ssh_user}@{hpc_mn}:{hpc_mn_project_base}...\")\n",
    "    hpctk.run([\"rsync\", \"-av\", f\"--rsh=ssh -p {ssh_port} -i {ssh_key_file}\", f\"../{workspace_dir}\", f\"{ssh_user}@{hpc_mn}:{hpc_mn_project_base}/\"])\n",
    "    print(f\"\\n{hpctk.STATE_DONE} DONE!\\n\")\n",
    "\n",
    "except subprocess.CalledProcessError as e:\n",
    "    print(f\"\\n{hpctk.STATE_FAIL} Failed: {e.returncode}\\n\")\n",
    "    print(f\"Error message: {e.stderr}\")"
   ]
  }
 ],
 "metadata": {
  "kernelspec": {
   "display_name": "Python 3",
   "language": "python",
   "name": "python3"
  },
  "language_info": {
   "codemirror_mode": {
    "name": "ipython",
    "version": 3
   },
   "file_extension": ".py",
   "mimetype": "text/x-python",
   "name": "python",
   "nbconvert_exporter": "python",
   "pygments_lexer": "ipython3",
   "version": "3.10.12"
  }
 },
 "nbformat": 4,
 "nbformat_minor": 2
}
